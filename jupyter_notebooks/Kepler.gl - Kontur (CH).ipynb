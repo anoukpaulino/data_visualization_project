{
 "cells": [
  {
   "cell_type": "markdown",
   "id": "incoming-webster",
   "metadata": {},
   "source": [
    "# Kontur visualization using Kepler.gl\n",
    "\n",
    "Kepler.gl is a tool developped by Uber Engineering to display some hexagonal data. The online version is here: https://kepler.gl/. We wanted to try out the python package and see if there were some more options than on the website."
   ]
  },
  {
   "cell_type": "code",
   "execution_count": 13,
   "id": "romantic-isolation",
   "metadata": {},
   "outputs": [],
   "source": [
    "import pandas as pd\n",
    "from keplergl import KeplerGl\n",
    "import leafmap.kepler as leafmap\n",
    "import h3"
   ]
  },
  {
   "cell_type": "code",
   "execution_count": 6,
   "id": "favorite-iceland",
   "metadata": {},
   "outputs": [],
   "source": [
    "data = pd.read_csv(\"../data/map/kontur.csv\")"
   ]
  },
  {
   "cell_type": "code",
   "execution_count": 7,
   "id": "disabled-photographer",
   "metadata": {},
   "outputs": [
    {
     "data": {
      "text/html": [
       "<div>\n",
       "<style scoped>\n",
       "    .dataframe tbody tr th:only-of-type {\n",
       "        vertical-align: middle;\n",
       "    }\n",
       "\n",
       "    .dataframe tbody tr th {\n",
       "        vertical-align: top;\n",
       "    }\n",
       "\n",
       "    .dataframe thead th {\n",
       "        text-align: right;\n",
       "    }\n",
       "</style>\n",
       "<table border=\"1\" class=\"dataframe\">\n",
       "  <thead>\n",
       "    <tr style=\"text-align: right;\">\n",
       "      <th></th>\n",
       "      <th>hex_id</th>\n",
       "      <th>population</th>\n",
       "    </tr>\n",
       "  </thead>\n",
       "  <tbody>\n",
       "    <tr>\n",
       "      <th>0</th>\n",
       "      <td>881f91a9c3fffff</td>\n",
       "      <td>125</td>\n",
       "    </tr>\n",
       "    <tr>\n",
       "      <th>1</th>\n",
       "      <td>881f91a9c1fffff</td>\n",
       "      <td>14</td>\n",
       "    </tr>\n",
       "    <tr>\n",
       "      <th>2</th>\n",
       "      <td>881f91a9ebfffff</td>\n",
       "      <td>206</td>\n",
       "    </tr>\n",
       "    <tr>\n",
       "      <th>3</th>\n",
       "      <td>881f91a9a9fffff</td>\n",
       "      <td>281</td>\n",
       "    </tr>\n",
       "    <tr>\n",
       "      <th>4</th>\n",
       "      <td>881f91a981fffff</td>\n",
       "      <td>10</td>\n",
       "    </tr>\n",
       "    <tr>\n",
       "      <th>...</th>\n",
       "      <td>...</td>\n",
       "      <td>...</td>\n",
       "    </tr>\n",
       "    <tr>\n",
       "      <th>44084</th>\n",
       "      <td>881f9c08cdfffff</td>\n",
       "      <td>221</td>\n",
       "    </tr>\n",
       "    <tr>\n",
       "      <th>44085</th>\n",
       "      <td>881f9c08cbfffff</td>\n",
       "      <td>348</td>\n",
       "    </tr>\n",
       "    <tr>\n",
       "      <th>44086</th>\n",
       "      <td>881f9c08c9fffff</td>\n",
       "      <td>1</td>\n",
       "    </tr>\n",
       "    <tr>\n",
       "      <th>44087</th>\n",
       "      <td>881f9c08c7fffff</td>\n",
       "      <td>24</td>\n",
       "    </tr>\n",
       "    <tr>\n",
       "      <th>44088</th>\n",
       "      <td>881f9c08c3fffff</td>\n",
       "      <td>96</td>\n",
       "    </tr>\n",
       "  </tbody>\n",
       "</table>\n",
       "<p>44089 rows × 2 columns</p>\n",
       "</div>"
      ],
      "text/plain": [
       "                hex_id  population\n",
       "0      881f91a9c3fffff         125\n",
       "1      881f91a9c1fffff          14\n",
       "2      881f91a9ebfffff         206\n",
       "3      881f91a9a9fffff         281\n",
       "4      881f91a981fffff          10\n",
       "...                ...         ...\n",
       "44084  881f9c08cdfffff         221\n",
       "44085  881f9c08cbfffff         348\n",
       "44086  881f9c08c9fffff           1\n",
       "44087  881f9c08c7fffff          24\n",
       "44088  881f9c08c3fffff          96\n",
       "\n",
       "[44089 rows x 2 columns]"
      ]
     },
     "execution_count": 7,
     "metadata": {},
     "output_type": "execute_result"
    }
   ],
   "source": [
    "# rename h3 column to fulfill kepler conventions\n",
    "data = data.rename(columns={\"h3\": \"hex_id\"})\n",
    "data"
   ]
  },
  {
   "cell_type": "code",
   "execution_count": 14,
   "id": "thick-float",
   "metadata": {},
   "outputs": [
    {
     "data": {
      "application/vnd.jupyter.widget-view+json": {
       "model_id": "151da6da348a4eedabe3a87b79b7d81d",
       "version_major": 2,
       "version_minor": 0
      },
      "text/plain": [
       "Map(config={'version': 'v1', 'config': {'mapState': {'latitude': 20, 'longitude': 0, 'zoom': 1.3, 'bearing': 0…"
      ]
     },
     "metadata": {},
     "output_type": "display_data"
    }
   ],
   "source": [
    "m = leafmap.Map()\n",
    "m"
   ]
  },
  {
   "cell_type": "code",
   "execution_count": 15,
   "id": "consistent-arthur",
   "metadata": {},
   "outputs": [
    {
     "data": {
      "application/vnd.jupyter.widget-view+json": {
       "model_id": "151da6da348a4eedabe3a87b79b7d81d",
       "version_major": 2,
       "version_minor": 0
      },
      "text/plain": [
       "Map(config={'version': 'v1', 'config': {'mapState': {'latitude': 20, 'longitude': 0, 'zoom': 1.3, 'bearing': 0…"
      ]
     },
     "metadata": {},
     "output_type": "display_data"
    }
   ],
   "source": [
    "pop = pd.DataFrame(data[\"population\"])\n",
    "m.add_df(data, layer_name=\"hex_data\")\n",
    "m"
   ]
  },
  {
   "cell_type": "code",
   "execution_count": 16,
   "id": "opening-paragraph",
   "metadata": {},
   "outputs": [
    {
     "name": "stdout",
     "output_type": "stream",
     "text": [
      "User Guide: https://docs.kepler.gl/docs/keplergl-jupyter\n"
     ]
    },
    {
     "data": {
      "application/vnd.jupyter.widget-view+json": {
       "model_id": "36bb832b24f44577a2267e06029545fd",
       "version_major": 2,
       "version_minor": 0
      },
      "text/plain": [
       "KeplerGl()"
      ]
     },
     "metadata": {},
     "output_type": "display_data"
    }
   ],
   "source": [
    "map_1 = KeplerGl()\n",
    "map_1"
   ]
  },
  {
   "cell_type": "code",
   "execution_count": 18,
   "id": "entitled-burning",
   "metadata": {},
   "outputs": [
    {
     "data": {
      "application/vnd.jupyter.widget-view+json": {
       "model_id": "36bb832b24f44577a2267e06029545fd",
       "version_major": 2,
       "version_minor": 0
      },
      "text/plain": [
       "KeplerGl(data={'data_2': '\"h3\",\"population\"\\n\"881f91a9c3fffff\",\"125\"\\n\"881f91a9c1fffff\",\"14\"\\n\"881f91a9ebfffff…"
      ]
     },
     "metadata": {},
     "output_type": "display_data"
    }
   ],
   "source": [
    "with open('../data/map/kontur.csv', 'r') as f:\n",
    "    csvData = f.read()\n",
    "map_1.add_data(data=csvData, name='data_2')\n",
    "map_1"
   ]
  },
  {
   "cell_type": "markdown",
   "id": "17b5eee0",
   "metadata": {},
   "source": [
    "None of the above worked. An apparent fix would have been to download the package directly from Github, but we agreed on not doing it since it would not have been worth the time spent."
   ]
  }
 ],
 "metadata": {
  "celltoolbar": "Format de la Cellule Texte Brut",
  "kernelspec": {
   "display_name": "Python 3 (ipykernel)",
   "language": "python",
   "name": "python3"
  },
  "language_info": {
   "codemirror_mode": {
    "name": "ipython",
    "version": 3
   },
   "file_extension": ".py",
   "mimetype": "text/x-python",
   "name": "python",
   "nbconvert_exporter": "python",
   "pygments_lexer": "ipython3",
   "version": "3.10.9"
  }
 },
 "nbformat": 4,
 "nbformat_minor": 5
}
